{
 "cells": [
  {
   "cell_type": "markdown",
   "metadata": {},
   "source": [
    "# Linear and Polynomial Regression Tutorial\n",
    "\n",
    "In this notebook, we'll be looking at the basic implementation of Linear Regression. The dataset used for this tutorial is House Price Prediction. It has been modified by me to make it simpler to understand. \n",
    "\n",
    "The modified dataset **\"data.csv\"** contains 3 independent variables and 1 dependent variable. \n",
    "\n",
    "### Independent Variables:\n",
    "\n",
    "1stFlrSF - First Floor square feet <br />\n",
    "2ndFlrSF - Second floor square feet <br />\n",
    "YearBuilt - Original construction date\n",
    "\n",
    "### Dependent Variables: \n",
    "\n",
    "SalePrice - the property's sale price in dollars. (This is the target variable that you're trying to predict.)\n",
    "\n",
    "If you wish to work on the complete dataset, it can be found at: \n",
    "[House Prices: Advanced Regression Techniques](https://www.kaggle.com/c/house-prices-advanced-regression-techniques/).\n",
    "\n",
    "Let's get into the code right away!"
   ]
  },
  {
   "cell_type": "markdown",
   "metadata": {},
   "source": [
    "## 1. Importing Python Libraries"
   ]
  },
  {
   "cell_type": "code",
   "execution_count": 128,
   "metadata": {},
   "outputs": [],
   "source": [
    "import datetime as dt\n",
    "import sys\n",
    "import pandas as pd\n",
    "from sklearn.model_selection import train_test_split\n",
    "from sklearn.linear_model import LinearRegression\n",
    "from sklearn.metrics import mean_squared_error\n",
    "from sklearn.preprocessing import PolynomialFeatures \n",
    "from math import sqrt"
   ]
  },
  {
   "cell_type": "markdown",
   "metadata": {},
   "source": [
    "## 2. Reading the Dataset as a Dataframe using Pandas"
   ]
  },
  {
   "cell_type": "code",
   "execution_count": 129,
   "metadata": {},
   "outputs": [],
   "source": [
    "df = pd.read_csv(\"data.csv\")"
   ]
  },
  {
   "cell_type": "markdown",
   "metadata": {},
   "source": [
    "## 3. Initializing the Independent and the Dependent Variables"
   ]
  },
  {
   "cell_type": "code",
   "execution_count": 130,
   "metadata": {},
   "outputs": [],
   "source": [
    "X = df.drop(\"SalePrice\", 1)\n",
    "y = df[\"SalePrice\"]"
   ]
  },
  {
   "cell_type": "markdown",
   "metadata": {},
   "source": [
    "## 4. Training and Testing Data"
   ]
  },
  {
   "cell_type": "code",
   "execution_count": 131,
   "metadata": {},
   "outputs": [],
   "source": [
    "X_train, X_test, y_train, y_test = train_test_split(X, y, test_size=0.20, random_state=42)"
   ]
  },
  {
   "cell_type": "markdown",
   "metadata": {},
   "source": [
    "## 5. Linear Regression Model"
   ]
  },
  {
   "cell_type": "code",
   "execution_count": 132,
   "metadata": {},
   "outputs": [
    {
     "data": {
      "text/plain": [
       "LinearRegression(copy_X=True, fit_intercept=True, n_jobs=None,\n",
       "         normalize=False)"
      ]
     },
     "execution_count": 132,
     "metadata": {},
     "output_type": "execute_result"
    }
   ],
   "source": [
    "model_lin = LinearRegression()\n",
    "model_lin.fit(X_train, y_train)\n",
    "y_pred_lin = model_lin.predict(X_test)"
   ]
  },
  {
   "cell_type": "markdown",
   "metadata": {},
   "source": [
    "## 6. Polynomial Features"
   ]
  },
  {
   "cell_type": "code",
   "execution_count": 134,
   "metadata": {},
   "outputs": [],
   "source": [
    "poly = PolynomialFeatures(degree = 4) \n",
    "X_poly = poly.fit_transform(X_train)\n",
    "poly.fit(X_poly, y_train) "
   ]
  },
  {
   "cell_type": "markdown",
   "metadata": {},
   "source": [
    "## 7. Polynomial Regression Model"
   ]
  },
  {
   "cell_type": "code",
   "execution_count": 135,
   "metadata": {},
   "outputs": [
    {
     "data": {
      "text/plain": [
       "LinearRegression(copy_X=True, fit_intercept=True, n_jobs=None,\n",
       "         normalize=False)"
      ]
     },
     "execution_count": 135,
     "metadata": {},
     "output_type": "execute_result"
    }
   ],
   "source": [
    "model_poly = LinearRegression() \n",
    "model_poly.fit(X_poly, y_train)\n",
    "y_pred_poly = model_poly.predict(poly.fit_transform(X_test))"
   ]
  },
  {
   "cell_type": "markdown",
   "metadata": {},
   "source": [
    "## 8. Tabulating Results"
   ]
  },
  {
   "cell_type": "code",
   "execution_count": 137,
   "metadata": {
    "scrolled": true
   },
   "outputs": [],
   "source": [
    "results = pd.DataFrame({\n",
    "    \"LinPred\": y_pred_lin,\n",
    "    \"PolyPred\": y_pred_poly,\n",
    "    \"TrueValues\": y_test\n",
    "})"
   ]
  },
  {
   "cell_type": "markdown",
   "metadata": {},
   "source": [
    "## 9. Evaluation Metrics - Root Mean Square Error (RMSE)"
   ]
  },
  {
   "cell_type": "code",
   "execution_count": 143,
   "metadata": {},
   "outputs": [
    {
     "name": "stdout",
     "output_type": "stream",
     "text": [
      "RMSE (Linear Regression):  46321.133955685014\n",
      "RMSE (Polynomial Regression):  36741.49042680656\n"
     ]
    }
   ],
   "source": [
    "rmse_lin = sqrt(mean_squared_error(results[\"TrueValues\"], results[\"LinPred\"]))\n",
    "rmse_poly = sqrt(mean_squared_error(results[\"TrueValues\"], results[\"PolyPred\"]))\n",
    "\n",
    "print(\"RMSE (Linear Regression): \", rmse_lin)\n",
    "print(\"RMSE (Polynomial Regression): \", rmse_poly)"
   ]
  },
  {
   "cell_type": "markdown",
   "metadata": {},
   "source": [
    "### Goal Achieved, Linear and Polynomial Regression learned!\n",
    "\n",
    "So in this notebook, we saw how to implement Linear and Polynomial Regression using Scikit-learn.\n",
    "\n",
    "I know the RMSEs are too bad. We will use the complete data, perform better feature engineering, and implement more robust algorithms to obtain better results in the future.\n",
    "\n",
    "We can observe one thing that RMSE for the Polynomial Regression is better than that for the Linear Regression. Hence we can conclude that Polynomial Regression generally outperforms Linear Regression as Polynomial basically fits wide range of curvature.\n",
    "\n",
    "**Till then, Keep coding!**\n",
    "\n",
    "**Thank You!**"
   ]
  },
  {
   "cell_type": "code",
   "execution_count": null,
   "metadata": {},
   "outputs": [],
   "source": []
  }
 ],
 "metadata": {
  "kernelspec": {
   "display_name": "Python 3",
   "language": "python",
   "name": "python3"
  },
  "language_info": {
   "codemirror_mode": {
    "name": "ipython",
    "version": 3
   },
   "file_extension": ".py",
   "mimetype": "text/x-python",
   "name": "python",
   "nbconvert_exporter": "python",
   "pygments_lexer": "ipython3",
   "version": "3.6.10"
  }
 },
 "nbformat": 4,
 "nbformat_minor": 2
}
